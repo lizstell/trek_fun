{
 "cells": [
  {
   "cell_type": "code",
   "execution_count": 11,
   "id": "8ca23b69-0ea8-45c1-a292-47fb498eddb0",
   "metadata": {},
   "outputs": [],
   "source": [
    "import numpy as np\n",
    "import pandas as pd\n",
    "import json\n",
    "import matplotlib.pyplot as plt"
   ]
  },
  {
   "cell_type": "code",
   "execution_count": 14,
   "id": "2900356c-5846-406a-9582-b69f230ac9f4",
   "metadata": {
    "scrolled": true,
    "tags": []
   },
   "outputs": [],
   "source": [
    "# Create df from all scripts\n",
    "trekScript = pd.read_json('all_scripts_raw.json')"
   ]
  },
  {
   "cell_type": "code",
   "execution_count": 15,
   "id": "9fb03c4d-64a8-4ff9-96ff-1cad3005de0f",
   "metadata": {
    "scrolled": true,
    "tags": []
   },
   "outputs": [],
   "source": [
    "#Create df from all lines\n",
    "trekLines = pd.read_json('all_series_lines.json')"
   ]
  },
  {
   "cell_type": "code",
   "execution_count": 16,
   "id": "fc80c717-240a-47b8-bb42-73e1648facf2",
   "metadata": {
    "scrolled": true,
    "tags": []
   },
   "outputs": [
    {
     "data": {
      "text/plain": [
       "pandas.core.series.Series"
      ]
     },
     "execution_count": 16,
     "metadata": {},
     "output_type": "execute_result"
    }
   ],
   "source": [
    "# Get all ds9 scripts and narrow down to get rid of NaNs\n",
    "ds9Script = trekScript['DS9']\n",
    "ds9Scripts = ds9Script[0:173]\n",
    "type(ds9Scripts)"
   ]
  },
  {
   "cell_type": "code",
   "execution_count": 17,
   "id": "2d4ddc31-d2e2-44cc-94e8-a0a1bea867f3",
   "metadata": {},
   "outputs": [],
   "source": [
    "# idk why I did this, besides not wanting to deal with quotes\n",
    "ds9 = 'DS9'"
   ]
  },
  {
   "cell_type": "code",
   "execution_count": 18,
   "id": "e8e3270b-1b9e-467b-a5b3-0634497ca579",
   "metadata": {},
   "outputs": [
    {
     "data": {
      "text/plain": [
       "pandas.core.series.Series"
      ]
     },
     "execution_count": 18,
     "metadata": {},
     "output_type": "execute_result"
    }
   ],
   "source": [
    "# Get all ds9 lines and narrow down to get rid of NaN\n",
    "ds9Lines = trekLines['DS9']\n",
    "ds9Lines = ds9Lines[0:173]\n",
    "type(ds9Lines)"
   ]
  },
  {
   "cell_type": "code",
   "execution_count": 19,
   "id": "df2095c4-c2a4-4ca2-8ca4-2fda6b59d537",
   "metadata": {},
   "outputs": [
    {
     "data": {
      "text/plain": [
       "pandas.core.indexes.base.Index"
      ]
     },
     "execution_count": 19,
     "metadata": {},
     "output_type": "execute_result"
    }
   ],
   "source": [
    "# Create object with all ds9 episodes \n",
    "\n",
    "ds9_episodes = trekLines['DS9'].keys()\n",
    "ds9_episodes = ds9_episodes[0:173]\n",
    "type(ds9_episodes)"
   ]
  },
  {
   "cell_type": "code",
   "execution_count": 20,
   "id": "306d9b7e-88a4-4407-abb6-af123881eb24",
   "metadata": {
    "scrolled": true,
    "tags": []
   },
   "outputs": [
    {
     "data": {
      "text/plain": [
       "718"
      ]
     },
     "execution_count": 20,
     "metadata": {},
     "output_type": "execute_result"
    }
   ],
   "source": [
    "# Create list of all ds9 characters\n",
    "ds9_char = ds9Lines['episode 172'].keys()\n",
    "\n",
    "characters = []\n",
    "for c in ds9_char:\n",
    "    characters.append(c)\n",
    "    \n",
    "len(characters)"
   ]
  },
  {
   "cell_type": "code",
   "execution_count": 21,
   "id": "10f4b44d-3e29-4043-9ebf-d0d9e4ff9683",
   "metadata": {},
   "outputs": [],
   "source": [
    "# Copied from GARY BROUGHTON via Kaggle\n",
    "\n",
    "total_lines_counts={}\n",
    "line_counts_by_episode={}\n",
    "for i,ep in enumerate(ds9_episodes):\n",
    "    episode=\"episode \"+str(i)\n",
    "    line_counts_by_episode[episode]={}\n",
    "    if trekLines[ds9][ep] is not np.NaN:\n",
    "        for member in list(trekLines[ds9][ep].keys()):\n",
    "            line_counts_by_episode[episode][member]=len(trekLines[ds9][ep][member])\n",
    "            if member in total_lines_counts.keys():\n",
    "                total_lines_counts[member]=total_lines_counts[member]+len(trekLines[ds9][ep][member])\n",
    "            else:\n",
    "                total_lines_counts[member]=len(trekLines[ds9][ep][member])"
   ]
  },
  {
   "cell_type": "code",
   "execution_count": 22,
   "id": "73558484-8acc-4948-b3a7-467f2911e2e9",
   "metadata": {},
   "outputs": [
    {
     "data": {
      "image/png": "[encoded data removed]",
      "text/plain": [
       "<Figure size 432x288 with 1 Axes>"
      ]
     },
     "metadata": {
      "needs_background": "light"
     },
     "output_type": "display_data"
    }
   ],
   "source": [
    "# copied from GARY BROUGHTON via Kaggle\n",
    "\n",
    "DS9_df = pd.DataFrame(list(total_lines_counts.items()), columns=['Character','No. of Lines'])\n",
    "Top20 = DS9_df.sort_values(by='No. of Lines', ascending=False).head(20)\n",
    "\n",
    "Top20.plot.bar(x='Character',y='No. of Lines')\n",
    "plt.show()"
   ]
  },
  {
   "cell_type": "code",
   "execution_count": 23,
   "id": "02d03b3e-1709-485a-8491-8d595803673e",
   "metadata": {},
   "outputs": [
    {
     "data": {
      "text/plain": [
       "JENNIFER       0.0\n",
       "OPS            0.0\n",
       "JASAD          0.0\n",
       "PICARD         0.0\n",
       "MAGGIE         0.0\n",
       "              ... \n",
       "BROCA          0.0\n",
       "BROIK          0.0\n",
       "LONAR          0.0\n",
       "EKOOR          0.0\n",
       "CARDASSIANS    0.0\n",
       "Name: episode 14, Length: 718, dtype: float64"
      ]
     },
     "execution_count": 23,
     "metadata": {},
     "output_type": "execute_result"
    }
   ],
   "source": [
    "# Fill all NaNs with 0\n",
    "\n",
    "ds9e = pd.DataFrame(data=line_counts_by_episode)\n",
    "ds9e = ds9e.fillna(0)\n",
    "#ds9e['episode 14']"
   ]
  },
  {
   "cell_type": "code",
   "execution_count": 24,
   "id": "fea46f91-7b57-44fc-848d-93025910415d",
   "metadata": {
    "tags": []
   },
   "outputs": [
    {
     "data": {
      "text/plain": [
       "<AxesSubplot:title={'center':'Episode 0: Emissary'}, xlabel='Character'>"
      ]
     },
     "execution_count": 24,
     "metadata": {},
     "output_type": "execute_result"
    },
    {
     "data": {
      "image/png": "[encoded data removed]",
      "text/plain": [
       "<Figure size 432x288 with 1 Axes>"
      ]
     },
     "metadata": {
      "needs_background": "light"
     },
     "output_type": "display_data"
    }
   ],
   "source": [
    "# based on code by GARY BROUGHTON via Kaggle\n",
    "# create a graph of characters who spoke most lines in first episode of ds9\n",
    "\n",
    "ds9eps = pd.DataFrame(list(ds9e['episode 0'].items()), columns = ['Character', 'No. of Lines'])\n",
    "Top20 = ds9eps.sort_values(by='No. of Lines', ascending=False).head(20)\n",
    "\n",
    "Top20.plot.bar(x='Character',y='No. of Lines', title='Episode 0: Emissary')\n"
   ]
  },
  {
   "cell_type": "code",
   "execution_count": 26,
   "id": "471db03b-2219-408c-85d3-89a41e22930a",
   "metadata": {},
   "outputs": [
    {
     "data": {
      "image/png": "[encoded data removed]",
      "text/plain": [
       "<Figure size 432x288 with 1 Axes>"
      ]
     },
     "metadata": {
      "needs_background": "light"
     },
     "output_type": "display_data"
    }
   ],
   "source": [
    "# Create a function that makes a bar graph with characters who speak most lines, call the episode by number\n",
    "\n",
    "def CreateGraph(num):\n",
    "    for ep in ds9e:\n",
    "        ep = 'episode ' + num\n",
    "        ds9_line_eps=pd.DataFrame(list(ds9e[ep].items()), columns=['Character', 'No. of Lines'])\n",
    "        top10 = ds9_line_eps.sort_values(by='No. of Lines', ascending=False).head(10)\n",
    "    top10.plot.bar(x='Character',y='No. of Lines', title=\"episode \" + num)\n",
    "    \n",
    "CreateGraph('31')"
   ]
  },
  {
   "cell_type": "code",
   "execution_count": 95,
   "id": "b578112e-07e1-45b9-bd46-7e4c6ae5992b",
   "metadata": {
    "scrolled": true,
    "tags": []
   },
   "outputs": [
    {
     "data": {
      "text/plain": [
       "list"
      ]
     },
     "execution_count": 95,
     "metadata": {},
     "output_type": "execute_result"
    }
   ],
   "source": [
    "# create a list of episode titles by hand, a pain in the ass\n",
    "ds9_titles = [\n",
    "\"Emissary\",\n",
    "\"Past Prologue\",\n",
    "\"A Man Alone\",\n",
    "\"Babel\", \n",
    "\"Captive Pursuit\",\n",
    "\"Q-Less\",\n",
    "\"Dax\",\n",
    "\"The Passenger\",\n",
    "\"Move Along Home\",\n",
    "\"The Nagus\",\n",
    "\"Vortex\", \n",
    "\"Battle Lines\",\n",
    "\"The Storyteller\",\n",
    "\"Progress\",\n",
    "\"If Wishes Were Horses\",\n",
    "\"The Forsaken\",\n",
    "\"Dramatis Personae\",\n",
    "\"Duet\",\n",
    "\"In the Hands of the Prophets\",\n",
    "\"The Homecoming\",\n",
    "\"The Circle\",\n",
    "\"The Siege\",\n",
    "\"Invasive Procedures\",\n",
    "\"Cardassians\",\n",
    "\"Melora\", \n",
    "\"Rules of Acquisition\",\n",
    "\"Necessary Evil\",\n",
    "\"Second Sight\",\n",
    "\"Sanctuary\",\n",
    "\"Rivals\",\n",
    "\"The Alternate\",\n",
    "\"Armageddon Game\",\n",
    "\"Whispers\",\n",
    "\"Paradise\",\n",
    "\"Shadowplay\",\n",
    "\"Playing God\",\n",
    "\"Profit and Loss\",\n",
    "\"Blood Oath\",\n",
    "\"The Maquis, Part One\",\n",
    "\"The Maquis, Part Two\",\n",
    "\"The Wire\", \n",
    "\"Crossover\", \n",
    "\"The Collaborator\", \n",
    "\"Tribunal\",\n",
    "\"The Jem'Hadar\",\n",
    "\"The Search, Part One\",\n",
    "\"The Search, Part Two\",\n",
    "\"The House of Quark\", \n",
    "\"Equilibrium\", \n",
    "\"Second Skin\", \n",
    "\"The Abandoned\", \n",
    "\"Civil Defense\", \n",
    "\"Meridian\", \n",
    "\"Defiant\", \n",
    "\"Fascination\", \n",
    "\"Past Tense, Part One\",\n",
    "\"Past Tense, Part Two\",\n",
    "\"Life Support\", \n",
    "\"Heart of Stone\", \n",
    "\"Destiny\", \n",
    "\"Prophet Motive\", \n",
    "\"Visionary\",\n",
    "\"Distant Voices\", \n",
    "\"Through the Looking Glass\", \n",
    "\"Improbable Cause\", \n",
    "\"The Die is Cast\",\n",
    "\"Explorers\", \n",
    "\"Family Business\", \n",
    "\"Shakaar\",\n",
    "\"Facets\", \n",
    "\"The Adversary\", \n",
    "\"The Way of the Warrior\", \n",
    "\"The Visitor\", \n",
    "\"Hippocratic Oath\",\n",
    "\"Indiscretion\", \n",
    "\"Rejoined\", \n",
    "\"Starship Down\", \n",
    "\"Little Green Men\", \n",
    "\"The Sword of Kahless\", \n",
    "\"Our Man Bashir\", \n",
    "\"Homefront\", \n",
    "\"Paradise Lost\", \n",
    "\"Crossfire\", \n",
    "\"Return to Grace\", \n",
    "\"Sons of Mogh\", \n",
    "\"Bar Association\", \n",
    "\"Accession\",\n",
    "\"Rules of Engagement\", \n",
    "\"Hard Time\", \n",
    "\"Shattered Mirror\", \n",
    "\"The Muse\", \n",
    "\"For the Cause\", \n",
    "\"To the Death\", \n",
    "\"The Quickening\", \n",
    "\"Body Parts\", \n",
    "\"Broken Link\", \n",
    "\"Apocalypse Rising\", \n",
    "\"The Ship\", \n",
    "\"Looking for par'Mach in All the Wrong Places\", \n",
    "\"...Nor the Battle to the Strong\", \n",
    "\"The Assignment\",\n",
    "\"Trials and Tribble-ations\",\n",
    "\"Let He Who is Without Sin...\",\n",
    "\"Things Past\", \n",
    "\"The Ascent\",\n",
    "\"Rapture\", \n",
    "\"The Darkness and the Light\", \n",
    "\"The Begotten\", \n",
    "\"For the Uniform\", \n",
    "\"In Purgatory's Shadow\", \n",
    "\"By Inferno's Light\", \n",
    "\"Doctor Bashir I Presume?\", \n",
    "\"A Simple Investigation\", \n",
    "\"Business as Usual\", \n",
    "\"Ties of Blook and Water\", \n",
    "\"Ferengi Love Songs\", \n",
    "\"Soldiers of the Empire\", \n",
    "\"Children of Time\", \n",
    "\"Blaze of Glory\", \n",
    "\"Empok Nor\", \n",
    "\"In the Cards\", \n",
    "\"Call to Arms\", \n",
    "\"A Time to Stand\", \n",
    "\"Rocks and Shoals\", \n",
    "\"Sons and Daughters\", \n",
    "\"Behind the Lines\", \n",
    "\"Favor the Bold\", \n",
    "\"Sacrifice of Angels\", \n",
    "\"You are Cordially Invited\",\n",
    "\"Resurrection\", \n",
    "\"Statistical Improbabilities\",\n",
    "\"The Magnificent Ferengi\", \n",
    "\"Waltz\", \n",
    "\"Who Mourns for Morn?\", \n",
    "\"Far Beyond the Stars\",\n",
    "\"One Little Ship\", \n",
    "\"Honor Among Thieves\", \n",
    "\"Change of Heart\", \n",
    "\"Wrongs Darker Than Death or Night\",\n",
    "\"Inquisition\", \n",
    "\"In the Pale Moonlight\", \n",
    "\"His Way\", \n",
    "\"The Reckoning\", \n",
    "\"Valiant\", \n",
    "\"Profit and Lace\", \n",
    "\"Time's Orphan\", \n",
    "\"The Sound of Her Voice\",\n",
    "\"Tears of the Prophets\", \n",
    "\"Image in the Sand\", \n",
    "\"Shadows and Symbols\", \n",
    "\"Afterimage\", \n",
    "\"Take Me Out to the Holosuite\",\n",
    "\"Chrysalis\", \n",
    "\"Treachery, Faith, and the Great River\", \n",
    "\"Once More Unto the Breach\", \n",
    "\"The Siege of AR-558\", \n",
    "\"Covenant\", \n",
    "\"It's Only a Paper Moon\", \n",
    "\"Prodigal Daughter\", \n",
    "\"The Emperor's New Cloak\", \n",
    "\"Field of Fire\", \n",
    "\"Chimera\", \n",
    "\"Badda-Bing, Badda-Bang\", \n",
    "\"Inter Arma Enim Silent Leges\", \n",
    "\"Penumbra\", \n",
    "\"Til Death Do Us Part\", \n",
    "\"Strange Bedfellows\", \n",
    "\"The Changing Face of Evil\", \n",
    "\"When It Rains...\", \n",
    "\"Tacking Into the Wind\", \n",
    "\"Extreme Measures\", \n",
    "\"The Dogs of War\", \n",
    "\"What You Leave Behind\"\n",
    "]\n",
    "\n",
    "type(ds9_titles)"
   ]
  },
  {
   "cell_type": "code",
   "execution_count": 33,
   "id": "90a7fb39-b6bb-4689-8d2b-0dd87486e62b",
   "metadata": {},
   "outputs": [
    {
     "data": {
      "text/html": [
       "<div>\n",
       "<style scoped>\n",
       "    .dataframe tbody tr th:only-of-type {\n",
       "        vertical-align: middle;\n",
       "    }\n",
       "\n",
       "    .dataframe tbody tr th {\n",
       "        vertical-align: top;\n",
       "    }\n",
       "\n",
       "    .dataframe thead th {\n",
       "        text-align: right;\n",
       "    }\n",
       "</style>\n",
       "<table border=\"1\" class=\"dataframe\">\n",
       "  <thead>\n",
       "    <tr style=\"text-align: right;\">\n",
       "      <th></th>\n",
       "      <th>Episode</th>\n",
       "      <th>Title</th>\n",
       "    </tr>\n",
       "  </thead>\n",
       "  <tbody>\n",
       "    <tr>\n",
       "      <th>0</th>\n",
       "      <td>episode 0</td>\n",
       "      <td>Emissary</td>\n",
       "    </tr>\n",
       "    <tr>\n",
       "      <th>1</th>\n",
       "      <td>episode 1</td>\n",
       "      <td>Past Prologue</td>\n",
       "    </tr>\n",
       "    <tr>\n",
       "      <th>2</th>\n",
       "      <td>episode 2</td>\n",
       "      <td>A Man Alone</td>\n",
       "    </tr>\n",
       "    <tr>\n",
       "      <th>3</th>\n",
       "      <td>episode 3</td>\n",
       "      <td>Babel</td>\n",
       "    </tr>\n",
       "    <tr>\n",
       "      <th>4</th>\n",
       "      <td>episode 4</td>\n",
       "      <td>Captive Pursuit</td>\n",
       "    </tr>\n",
       "    <tr>\n",
       "      <th>5</th>\n",
       "      <td>episode 5</td>\n",
       "      <td>Q-Less</td>\n",
       "    </tr>\n",
       "    <tr>\n",
       "      <th>6</th>\n",
       "      <td>episode 6</td>\n",
       "      <td>Dax</td>\n",
       "    </tr>\n",
       "    <tr>\n",
       "      <th>7</th>\n",
       "      <td>episode 7</td>\n",
       "      <td>The Passenger</td>\n",
       "    </tr>\n",
       "    <tr>\n",
       "      <th>8</th>\n",
       "      <td>episode 8</td>\n",
       "      <td>Move Along Home</td>\n",
       "    </tr>\n",
       "    <tr>\n",
       "      <th>9</th>\n",
       "      <td>episode 9</td>\n",
       "      <td>The Nagus</td>\n",
       "    </tr>\n",
       "  </tbody>\n",
       "</table>\n",
       "</div>"
      ],
      "text/plain": [
       "     Episode            Title\n",
       "0  episode 0         Emissary\n",
       "1  episode 1    Past Prologue\n",
       "2  episode 2      A Man Alone\n",
       "3  episode 3            Babel\n",
       "4  episode 4  Captive Pursuit\n",
       "5  episode 5           Q-Less\n",
       "6  episode 6              Dax\n",
       "7  episode 7    The Passenger\n",
       "8  episode 8  Move Along Home\n",
       "9  episode 9        The Nagus"
      ]
     },
     "execution_count": 33,
     "metadata": {},
     "output_type": "execute_result"
    }
   ],
   "source": [
    "# Create dataframe with \"Episode\" and \"Title\" columns\n",
    "\n",
    "ds9Titles = pd.DataFrame(zip(ds9_episodes, ds9_titles), columns=['Episode','Title'])\n",
    "ds9Titles.head(10)"
   ]
  },
  {
   "cell_type": "code",
   "execution_count": 96,
   "id": "fe9df60a-39f3-4aa9-820d-9052e1dec3bd",
   "metadata": {},
   "outputs": [
    {
     "data": {
      "image/png": "[encoded data removed]",
      "text/plain": [
       "<Figure size 432x288 with 1 Axes>"
      ]
     },
     "metadata": {
      "needs_background": "light"
     },
     "output_type": "display_data"
    }
   ],
   "source": [
    "# Create a function that takes in a number and makes a bar graph with characters who speak most lines in that episode, add episode title as title\n",
    "\n",
    "def CreateTitledGraph(num):\n",
    "    for ep in ds9e:\n",
    "        ep = 'episode ' + str(num)\n",
    "        ds9_line_eps=pd.DataFrame(list(ds9e[ep].items()), columns=['Character', 'No. of Lines'])\n",
    "        top10 = ds9_line_eps.sort_values(by='No. of Lines', ascending=False).head(10)\n",
    "        for t in ds9_titles:\n",
    "            t = ds9_titles[num]\n",
    "    top10.plot.bar(x='Character',y='No. of Lines', title = t)\n",
    " \n",
    "CreateTitledGraph(37)"
   ]
  },
  {
   "cell_type": "code",
   "execution_count": 35,
   "id": "b44f78ff",
   "metadata": {},
   "outputs": [
    {
     "data": {
      "image/png": "[encoded data removed]",
      "text/plain": [
       "<Figure size 432x288 with 1 Axes>"
      ]
     },
     "metadata": {
      "needs_background": "light"
     },
     "output_type": "display_data"
    },
    {
     "data": {
      "image/png": "[encoded data removed]",
      "text/plain": [
       "<Figure size 432x288 with 1 Axes>"
      ]
     },
     "metadata": {
      "needs_background": "light"
     },
     "output_type": "display_data"
    }
   ],
   "source": [
    "CreateTitledGraph(37)\n",
    "CreateTitledGraph(38)"
   ]
  },
  {
   "cell_type": "code",
   "execution_count": 98,
   "id": "9a3bc1a6",
   "metadata": {},
   "outputs": [],
   "source": [
    "# Create same fuction, but with the input as the episode title instead of episode number?\n",
    "\n",
    "def GraphFromTitle(title):\n",
    "    for i in ds9Titles:\n",
    "        i = ds9Titles[ds9Titles['Title'] == str(title)].index[0]\n",
    "#        print(str(i))\n",
    "        for ep in ds9e:\n",
    "            ep = 'episode ' + str(i)\n",
    "            ds9_line_eps=pd.DataFrame(list(ds9e[ep].items()), columns=['Character', 'No. of Lines'])\n",
    "            top10 = ds9_line_eps.sort_values(by='No. of Lines', ascending=False).head(10)\n",
    "    top10.plot.bar(x='Character',y='No. of Lines', title = title)\n",
    "\n",
    "    "
   ]
  },
  {
   "cell_type": "code",
   "execution_count": 101,
   "id": "024d017f-255e-4d92-903a-17e4d5f9bd44",
   "metadata": {},
   "outputs": [
    {
     "data": {
      "image/png": "[encoded data removed]",
      "text/plain": [
       "<Figure size 432x288 with 1 Axes>"
      ]
     },
     "metadata": {
      "needs_background": "light"
     },
     "output_type": "display_data"
    }
   ],
   "source": [
    "GraphFromTitle('In the Pale Moonlight')"
   ]
  }
 ],
 "metadata": {
  "interpreter": {
   "hash": "6629a96ef156a02c8fe7870cc8878d8e71f974b24fbf2c65c627d7d83bcae1d7"
  },
  "kernelspec": {
   "display_name": "Python 3 (ipykernel)",
   "language": "python",
   "name": "python3"
  },
  "language_info": {
   "codemirror_mode": {
    "name": "ipython",
    "version": 3
   },
   "file_extension": ".py",
   "mimetype": "text/x-python",
   "name": "python",
   "nbconvert_exporter": "python",
   "pygments_lexer": "ipython3",
   "version": "3.9.7"
  }
 },
 "nbformat": 4,
 "nbformat_minor": 5
}
